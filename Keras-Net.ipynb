{
 "cells": [
  {
   "cell_type": "code",
   "execution_count": null,
   "metadata": {
    "collapsed": false
   },
   "outputs": [],
   "source": []
  },
  {
   "cell_type": "code",
   "execution_count": 23,
   "metadata": {
    "collapsed": false
   },
   "outputs": [
    {
     "data": {
      "text/plain": [
       "['images', 'data', 'target_names', 'DESCR', 'target']"
      ]
     },
     "execution_count": 23,
     "metadata": {},
     "output_type": "execute_result"
    }
   ],
   "source": [
    "from sklearn.datasets import load_digits\n",
    "digits = load_digits()\n",
    "digits.keys()"
   ]
  },
  {
   "cell_type": "code",
   "execution_count": 24,
   "metadata": {
    "collapsed": false
   },
   "outputs": [
    {
     "name": "stdout",
     "output_type": "stream",
     "text": [
      "(1797, 64)\n",
      "(1797,)\n"
     ]
    }
   ],
   "source": [
    "X = digits.data\n",
    "y = digits.target\n",
    "print(X.shape)\n",
    "print(y.shape)"
   ]
  },
  {
   "cell_type": "code",
   "execution_count": 62,
   "metadata": {
    "collapsed": false
   },
   "outputs": [],
   "source": [
    "\n"
   ]
  },
  {
   "cell_type": "code",
   "execution_count": 64,
   "metadata": {
    "collapsed": false
   },
   "outputs": [],
   "source": [
    "from keras.utils import np_utils\n",
    "Y_train = np_utils.to_categorical(ytrain, 10)\n",
    "Y_test = np_utils.to_categorical(ytest, 10)"
   ]
  },
  {
   "cell_type": "code",
   "execution_count": 32,
   "metadata": {
    "collapsed": false
   },
   "outputs": [],
   "source": [
    "from keras.models import Sequential\n",
    "from keras.layers import Dense,Activation,Dropout\n"
   ]
  },
  {
   "cell_type": "code",
   "execution_count": 78,
   "metadata": {
    "collapsed": false
   },
   "outputs": [
    {
     "name": "stdout",
     "output_type": "stream",
     "text": [
      "Train on 1347 samples, validate on 450 samples\n",
      "Epoch 1/50\n",
      "1347/1347 [==============================] - 2s - loss: 2.7401 - acc: 0.2227 - val_loss: 1.5079 - val_acc: 0.6067\n",
      "Epoch 2/50\n",
      "1347/1347 [==============================] - 0s - loss: 1.6191 - acc: 0.4365 - val_loss: 0.9740 - val_acc: 0.7689\n",
      "Epoch 3/50\n",
      "1347/1347 [==============================] - 0s - loss: 1.2120 - acc: 0.5783 - val_loss: 0.6201 - val_acc: 0.8489\n",
      "Epoch 4/50\n",
      "1347/1347 [==============================] - 0s - loss: 1.0255 - acc: 0.6592 - val_loss: 0.4379 - val_acc: 0.8778\n",
      "Epoch 5/50\n",
      "1347/1347 [==============================] - 0s - loss: 0.7961 - acc: 0.7365 - val_loss: 0.3135 - val_acc: 0.8956\n",
      "Epoch 6/50\n",
      "1347/1347 [==============================] - 0s - loss: 0.7259 - acc: 0.7602 - val_loss: 0.2576 - val_acc: 0.9222\n",
      "Epoch 7/50\n",
      "1347/1347 [==============================] - 0s - loss: 0.6377 - acc: 0.7973 - val_loss: 0.2245 - val_acc: 0.9378\n",
      "Epoch 8/50\n",
      "1347/1347 [==============================] - 0s - loss: 0.5770 - acc: 0.8211 - val_loss: 0.2074 - val_acc: 0.9267\n",
      "Epoch 9/50\n",
      "1347/1347 [==============================] - 0s - loss: 0.5614 - acc: 0.8218 - val_loss: 0.1871 - val_acc: 0.9222\n",
      "Epoch 10/50\n",
      "1347/1347 [==============================] - 0s - loss: 0.4868 - acc: 0.8441 - val_loss: 0.1726 - val_acc: 0.9489\n",
      "Epoch 11/50\n",
      "1347/1347 [==============================] - 0s - loss: 0.4604 - acc: 0.8619 - val_loss: 0.1420 - val_acc: 0.9533\n",
      "Epoch 12/50\n",
      "1347/1347 [==============================] - 0s - loss: 0.3795 - acc: 0.8768 - val_loss: 0.1293 - val_acc: 0.9622\n",
      "Epoch 13/50\n",
      "1347/1347 [==============================] - 0s - loss: 0.3794 - acc: 0.8931 - val_loss: 0.1194 - val_acc: 0.9533\n",
      "Epoch 14/50\n",
      "1347/1347 [==============================] - 0s - loss: 0.3559 - acc: 0.8909 - val_loss: 0.1484 - val_acc: 0.9556\n",
      "Epoch 15/50\n",
      "1347/1347 [==============================] - 0s - loss: 0.3758 - acc: 0.8961 - val_loss: 0.1332 - val_acc: 0.9600\n",
      "Epoch 16/50\n",
      "1347/1347 [==============================] - 0s - loss: 0.3822 - acc: 0.8953 - val_loss: 0.1628 - val_acc: 0.9556\n",
      "Epoch 17/50\n",
      "1347/1347 [==============================] - 0s - loss: 0.3065 - acc: 0.9139 - val_loss: 0.1474 - val_acc: 0.9578\n",
      "Epoch 18/50\n",
      "1347/1347 [==============================] - 0s - loss: 0.3020 - acc: 0.9198 - val_loss: 0.1508 - val_acc: 0.9511\n",
      "Epoch 19/50\n",
      "1347/1347 [==============================] - 0s - loss: 0.3053 - acc: 0.9102 - val_loss: 0.1284 - val_acc: 0.9511\n",
      "Epoch 20/50\n",
      "1347/1347 [==============================] - 0s - loss: 0.2588 - acc: 0.9191 - val_loss: 0.1192 - val_acc: 0.9644\n",
      "Epoch 21/50\n",
      "1347/1347 [==============================] - 0s - loss: 0.3330 - acc: 0.9057 - val_loss: 0.1223 - val_acc: 0.9622\n",
      "Epoch 22/50\n",
      "1347/1347 [==============================] - 0s - loss: 0.2857 - acc: 0.9206 - val_loss: 0.1425 - val_acc: 0.9644\n",
      "Epoch 23/50\n",
      "1347/1347 [==============================] - 0s - loss: 0.2273 - acc: 0.9332 - val_loss: 0.0990 - val_acc: 0.9756\n",
      "Epoch 24/50\n",
      "1347/1347 [==============================] - 0s - loss: 0.2740 - acc: 0.9324 - val_loss: 0.1355 - val_acc: 0.9733\n",
      "Epoch 25/50\n",
      "1347/1347 [==============================] - 0s - loss: 0.2234 - acc: 0.9310 - val_loss: 0.1813 - val_acc: 0.9600\n",
      "Epoch 26/50\n",
      "1347/1347 [==============================] - 0s - loss: 0.2404 - acc: 0.9332 - val_loss: 0.1498 - val_acc: 0.9578\n",
      "Epoch 27/50\n",
      "1347/1347 [==============================] - 0s - loss: 0.2619 - acc: 0.9347 - val_loss: 0.1355 - val_acc: 0.9689\n",
      "Epoch 28/50\n",
      "1347/1347 [==============================] - 0s - loss: 0.2253 - acc: 0.9421 - val_loss: 0.1440 - val_acc: 0.9689\n",
      "Epoch 29/50\n",
      "1347/1347 [==============================] - 0s - loss: 0.2509 - acc: 0.9369 - val_loss: 0.1414 - val_acc: 0.9689\n",
      "Epoch 30/50\n",
      "1347/1347 [==============================] - 0s - loss: 0.2066 - acc: 0.9369 - val_loss: 0.1406 - val_acc: 0.9622\n",
      "Epoch 31/50\n",
      "1347/1347 [==============================] - 0s - loss: 0.1990 - acc: 0.9540 - val_loss: 0.1789 - val_acc: 0.9711\n",
      "Epoch 32/50\n",
      "1347/1347 [==============================] - 0s - loss: 0.2196 - acc: 0.9362 - val_loss: 0.1301 - val_acc: 0.9733\n",
      "Epoch 33/50\n",
      "1347/1347 [==============================] - 0s - loss: 0.2376 - acc: 0.9399 - val_loss: 0.1833 - val_acc: 0.9644\n",
      "Epoch 34/50\n",
      "1347/1347 [==============================] - 0s - loss: 0.2448 - acc: 0.9332 - val_loss: 0.1107 - val_acc: 0.9667\n",
      "Epoch 35/50\n",
      "1347/1347 [==============================] - 0s - loss: 0.1901 - acc: 0.9517 - val_loss: 0.1690 - val_acc: 0.9756\n",
      "Epoch 36/50\n",
      "1347/1347 [==============================] - 0s - loss: 0.2176 - acc: 0.9391 - val_loss: 0.1086 - val_acc: 0.9733\n",
      "Epoch 37/50\n",
      "1347/1347 [==============================] - 0s - loss: 0.2361 - acc: 0.9421 - val_loss: 0.1642 - val_acc: 0.9689\n",
      "Epoch 38/50\n",
      "1347/1347 [==============================] - 0s - loss: 0.2181 - acc: 0.9458 - val_loss: 0.1414 - val_acc: 0.9689\n",
      "Epoch 39/50\n",
      "1347/1347 [==============================] - 0s - loss: 0.2120 - acc: 0.9421 - val_loss: 0.1645 - val_acc: 0.9733\n",
      "Epoch 40/50\n",
      "1347/1347 [==============================] - 0s - loss: 0.2636 - acc: 0.9376 - val_loss: 0.1338 - val_acc: 0.9711\n",
      "Epoch 41/50\n",
      "1347/1347 [==============================] - 0s - loss: 0.2082 - acc: 0.9480 - val_loss: 0.1430 - val_acc: 0.9667\n",
      "Epoch 42/50\n",
      "1347/1347 [==============================] - 0s - loss: 0.1788 - acc: 0.9532 - val_loss: 0.1480 - val_acc: 0.9711\n",
      "Epoch 43/50\n",
      "1347/1347 [==============================] - 0s - loss: 0.2152 - acc: 0.9451 - val_loss: 0.1192 - val_acc: 0.9778\n",
      "Epoch 44/50\n",
      "1347/1347 [==============================] - 0s - loss: 0.1746 - acc: 0.9584 - val_loss: 0.1597 - val_acc: 0.9756\n",
      "Epoch 45/50\n",
      "1347/1347 [==============================] - 0s - loss: 0.1983 - acc: 0.9607 - val_loss: 0.1404 - val_acc: 0.9711\n",
      "Epoch 46/50\n",
      "1347/1347 [==============================] - 0s - loss: 0.2023 - acc: 0.9569 - val_loss: 0.1229 - val_acc: 0.9711\n",
      "Epoch 47/50\n",
      "1347/1347 [==============================] - 0s - loss: 0.1765 - acc: 0.9584 - val_loss: 0.1930 - val_acc: 0.9711\n",
      "Epoch 48/50\n",
      "1347/1347 [==============================] - 0s - loss: 0.1351 - acc: 0.9651 - val_loss: 0.2097 - val_acc: 0.9711\n",
      "Epoch 49/50\n",
      "1347/1347 [==============================] - 0s - loss: 0.1913 - acc: 0.9503 - val_loss: 0.1559 - val_acc: 0.9711\n",
      "Epoch 50/50\n",
      "1347/1347 [==============================] - 0s - loss: 0.1437 - acc: 0.9629 - val_loss: 0.1281 - val_acc: 0.9711\n"
     ]
    }
   ],
   "source": [
    "batch_size = 8\n",
    "nb_epoch = 50\n",
    "mod= Sequential()\n",
    "mod.add(Dense(50, input_dim=(64) ))\n",
    "mod.add(Activation('relu'))\n",
    "mod.add(Dropout(0.3))\n",
    "mod.add(Dense(40))\n",
    "mod.add(Activation('relu'))\n",
    "mod.add(Dropout(0.2))\n",
    "mod.add(Dense(30))\n",
    "mod.add(Activation('relu'))\n",
    "mod.add(Dropout(0.2))\n",
    "mod.add(Dense(10))\n",
    "mod.add(Activation('softmax'))\n",
    "mod.compile(optimizer='rmsprop',loss='categorical_crossentropy',metrics=['accuracy'])\n",
    "history = mod.fit(Xtrain, Y_train,\n",
    "                    batch_size=batch_size, nb_epoch=nb_epoch,\n",
    "                    verbose=1, validation_data=(Xtest, Y_test))\n",
    "\n"
   ]
  },
  {
   "cell_type": "code",
   "execution_count": 79,
   "metadata": {
    "collapsed": false
   },
   "outputs": [
    {
     "name": "stdout",
     "output_type": "stream",
     "text": [
      "[0.12812895532852658, 0.97111111111111115]\n"
     ]
    }
   ],
   "source": [
    "score = mod.evaluate(Xtest, Y_test, verbose=0)\n",
    "print score"
   ]
  },
  {
   "cell_type": "code",
   "execution_count": null,
   "metadata": {
    "collapsed": false
   },
   "outputs": [],
   "source": []
  },
  {
   "cell_type": "code",
   "execution_count": 46,
   "metadata": {
    "collapsed": true
   },
   "outputs": [],
   "source": []
  },
  {
   "cell_type": "code",
   "execution_count": null,
   "metadata": {
    "collapsed": true
   },
   "outputs": [],
   "source": []
  }
 ],
 "metadata": {
  "kernelspec": {
   "display_name": "Python 2",
   "language": "python",
   "name": "python2"
  },
  "language_info": {
   "codemirror_mode": {
    "name": "ipython",
    "version": 2
   },
   "file_extension": ".py",
   "mimetype": "text/x-python",
   "name": "python",
   "nbconvert_exporter": "python",
   "pygments_lexer": "ipython2",
   "version": "2.7.12"
  }
 },
 "nbformat": 4,
 "nbformat_minor": 1
}
